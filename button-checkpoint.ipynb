{
 "cells": [
  {
   "cell_type": "code",
   "execution_count": 1,
   "id": "bc366e6a",
   "metadata": {},
   "outputs": [
    {
     "name": "stdout",
     "output_type": "stream",
     "text": [
      "pygame 2.1.2 (SDL 2.0.18, Python 3.9.12)\n",
      "Hello from the pygame community. https://www.pygame.org/contribute.html\n"
     ]
    }
   ],
   "source": [
    "import pygame\n",
    "\n",
    "#button class\n",
    "class Button():\n",
    "\tdef __init__(self, x, y, image, scale):\n",
    "\t\twidth = image.get_width()\n",
    "\t\theight = image.get_height()\n",
    "\t\tself.image = pygame.transform.scale(image, (int(width * scale), int(height * scale)))\n",
    "\t\tself.rect = self.image.get_rect()\n",
    "\t\tself.rect.topleft = (x, y)\n",
    "\t\tself.clicked = False\n",
    "\n",
    "\tdef draw(self, surface):\n",
    "\t\taction = False\n",
    "\t\t#get mouse position\n",
    "\t\tpos = pygame.mouse.get_pos()\n",
    "\n",
    "\t\t#check mouseover and clicked conditions\n",
    "\t\tif self.rect.collidepoint(pos):\n",
    "\t\t\tif pygame.mouse.get_pressed()[0] == 1 and self.clicked == False:\n",
    "\t\t\t\tself.clicked = True\n",
    "\t\t\t\taction = True\n",
    "\n",
    "\t\tif pygame.mouse.get_pressed()[0] == 0:\n",
    "\t\t\tself.clicked = False\n",
    "\n",
    "\t\t#draw button on screen\n",
    "\t\tsurface.blit(self.image, (self.rect.x, self.rect.y))\n",
    "\n",
    "\t\treturn action"
   ]
  },
  {
   "cell_type": "code",
   "execution_count": null,
   "id": "3619b9ce",
   "metadata": {},
   "outputs": [],
   "source": []
  }
 ],
 "metadata": {
  "kernelspec": {
   "display_name": "Python 3 (ipykernel)",
   "language": "python",
   "name": "python3"
  },
  "language_info": {
   "codemirror_mode": {
    "name": "ipython",
    "version": 3
   },
   "file_extension": ".py",
   "mimetype": "text/x-python",
   "name": "python",
   "nbconvert_exporter": "python",
   "pygments_lexer": "ipython3",
   "version": "3.9.12"
  }
 },
 "nbformat": 4,
 "nbformat_minor": 5
}
